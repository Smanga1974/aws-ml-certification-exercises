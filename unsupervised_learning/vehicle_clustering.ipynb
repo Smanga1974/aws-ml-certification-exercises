{
 "cells": [
  {
   "cell_type": "code",
   "execution_count": null,
   "id": "237c0400",
   "metadata": {
    "vscode": {
     "languageId": "plaintext"
    }
   },
   "outputs": [],
   "source": [
    "# Import necessary libraries\n",
    "import pandas as pd\n",
    "import numpy as np\n",
    "import matplotlib.pyplot as plt\n",
    "import warnings\n",
    "from sklearn.cluster import KMeans\n",
    "\n",
    "warnings.filterwarnings('ignore')\n",
    "\n",
    "# Generate synthetic dataset for vehicles\n",
    "np.random.seed(0)\n",
    "data_size = 300\n",
    "data = {\n",
    "    'Weight': np.random.randint(1000, 3000, data_size),\n",
    "    'EngineSize': np.random.uniform(1.0, 4.0, data_size),\n",
    "    'Horsepower': np.random.randint(50, 300, data_size)\n",
    "}\n",
    "df = pd.DataFrame(data)\n",
    "\n",
    "# No labels are needed for unsupervised learning\n",
    "X = df\n",
    "\n",
    "# Perform KMeans clustering\n",
    "kmeans = KMeans(n_clusters=3, random_state=42)\n",
    "kmeans.fit(X)\n",
    "\n",
    "# Plotting the clusters\n",
    "plt.scatter(df['Weight'], df['Horsepower'], c=kmeans.labels_)\n",
    "plt.xlabel('Weight')\n",
    "plt.ylabel('Horsepower')\n",
    "plt.title('Vehicle Clusters')\n",
    "plt.show()"
   ]
  }
 ],
 "metadata": {
  "language_info": {
   "name": "python"
  }
 },
 "nbformat": 4,
 "nbformat_minor": 5
}
